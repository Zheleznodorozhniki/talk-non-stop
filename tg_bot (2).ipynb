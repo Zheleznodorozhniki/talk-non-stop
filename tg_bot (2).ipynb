{
  "nbformat": 4,
  "nbformat_minor": 0,
  "metadata": {
    "colab": {
      "provenance": []
    },
    "kernelspec": {
      "name": "python3",
      "display_name": "Python 3"
    },
    "language_info": {
      "name": "python"
    },
    "widgets": {
      "application/vnd.jupyter.widget-state+json": {
        "bc4a3e90001c45488dc42396ff759fbb": {
          "model_module": "@jupyter-widgets/controls",
          "model_name": "HBoxModel",
          "model_module_version": "1.5.0",
          "state": {
            "_dom_classes": [],
            "_model_module": "@jupyter-widgets/controls",
            "_model_module_version": "1.5.0",
            "_model_name": "HBoxModel",
            "_view_count": null,
            "_view_module": "@jupyter-widgets/controls",
            "_view_module_version": "1.5.0",
            "_view_name": "HBoxView",
            "box_style": "",
            "children": [
              "IPY_MODEL_150e15806ea74574bc299e3389dc90cf",
              "IPY_MODEL_6409e4148c6f4183a3dd6b8b7d28faea",
              "IPY_MODEL_64ce8973689e4166a4e591ee2f93d5fa"
            ],
            "layout": "IPY_MODEL_511de7fa5ea748549a765fc56e04568b"
          }
        },
        "150e15806ea74574bc299e3389dc90cf": {
          "model_module": "@jupyter-widgets/controls",
          "model_name": "HTMLModel",
          "model_module_version": "1.5.0",
          "state": {
            "_dom_classes": [],
            "_model_module": "@jupyter-widgets/controls",
            "_model_module_version": "1.5.0",
            "_model_name": "HTMLModel",
            "_view_count": null,
            "_view_module": "@jupyter-widgets/controls",
            "_view_module_version": "1.5.0",
            "_view_name": "HTMLView",
            "description": "",
            "description_tooltip": null,
            "layout": "IPY_MODEL_e3c81f47fb8d40579384919831e4eafa",
            "placeholder": "​",
            "style": "IPY_MODEL_3403ca67c91e4dd4bc3dd33424c39347",
            "value": "Utterances: 100%"
          }
        },
        "6409e4148c6f4183a3dd6b8b7d28faea": {
          "model_module": "@jupyter-widgets/controls",
          "model_name": "FloatProgressModel",
          "model_module_version": "1.5.0",
          "state": {
            "_dom_classes": [],
            "_model_module": "@jupyter-widgets/controls",
            "_model_module_version": "1.5.0",
            "_model_name": "FloatProgressModel",
            "_view_count": null,
            "_view_module": "@jupyter-widgets/controls",
            "_view_module_version": "1.5.0",
            "_view_name": "ProgressView",
            "bar_style": "success",
            "description": "",
            "description_tooltip": null,
            "layout": "IPY_MODEL_0f9408a8d8af4a52a870857d5a1f52d8",
            "max": 2,
            "min": 0,
            "orientation": "horizontal",
            "style": "IPY_MODEL_e97c553529fe4de5b4b743b79f735003",
            "value": 2
          }
        },
        "64ce8973689e4166a4e591ee2f93d5fa": {
          "model_module": "@jupyter-widgets/controls",
          "model_name": "HTMLModel",
          "model_module_version": "1.5.0",
          "state": {
            "_dom_classes": [],
            "_model_module": "@jupyter-widgets/controls",
            "_model_module_version": "1.5.0",
            "_model_name": "HTMLModel",
            "_view_count": null,
            "_view_module": "@jupyter-widgets/controls",
            "_view_module_version": "1.5.0",
            "_view_name": "HTMLView",
            "description": "",
            "description_tooltip": null,
            "layout": "IPY_MODEL_eb4803f47e534734bfc4dc3eaa1d9577",
            "placeholder": "​",
            "style": "IPY_MODEL_6697a19f05bd486894130ccc16ca9d0e",
            "value": " 2/2 [00:00&lt;00:00,  4.53it/s]"
          }
        },
        "511de7fa5ea748549a765fc56e04568b": {
          "model_module": "@jupyter-widgets/base",
          "model_name": "LayoutModel",
          "model_module_version": "1.2.0",
          "state": {
            "_model_module": "@jupyter-widgets/base",
            "_model_module_version": "1.2.0",
            "_model_name": "LayoutModel",
            "_view_count": null,
            "_view_module": "@jupyter-widgets/base",
            "_view_module_version": "1.2.0",
            "_view_name": "LayoutView",
            "align_content": null,
            "align_items": null,
            "align_self": null,
            "border": null,
            "bottom": null,
            "display": null,
            "flex": null,
            "flex_flow": null,
            "grid_area": null,
            "grid_auto_columns": null,
            "grid_auto_flow": null,
            "grid_auto_rows": null,
            "grid_column": null,
            "grid_gap": null,
            "grid_row": null,
            "grid_template_areas": null,
            "grid_template_columns": null,
            "grid_template_rows": null,
            "height": null,
            "justify_content": null,
            "justify_items": null,
            "left": null,
            "margin": null,
            "max_height": null,
            "max_width": null,
            "min_height": null,
            "min_width": null,
            "object_fit": null,
            "object_position": null,
            "order": null,
            "overflow": null,
            "overflow_x": null,
            "overflow_y": null,
            "padding": null,
            "right": null,
            "top": null,
            "visibility": null,
            "width": null
          }
        },
        "e3c81f47fb8d40579384919831e4eafa": {
          "model_module": "@jupyter-widgets/base",
          "model_name": "LayoutModel",
          "model_module_version": "1.2.0",
          "state": {
            "_model_module": "@jupyter-widgets/base",
            "_model_module_version": "1.2.0",
            "_model_name": "LayoutModel",
            "_view_count": null,
            "_view_module": "@jupyter-widgets/base",
            "_view_module_version": "1.2.0",
            "_view_name": "LayoutView",
            "align_content": null,
            "align_items": null,
            "align_self": null,
            "border": null,
            "bottom": null,
            "display": null,
            "flex": null,
            "flex_flow": null,
            "grid_area": null,
            "grid_auto_columns": null,
            "grid_auto_flow": null,
            "grid_auto_rows": null,
            "grid_column": null,
            "grid_gap": null,
            "grid_row": null,
            "grid_template_areas": null,
            "grid_template_columns": null,
            "grid_template_rows": null,
            "height": null,
            "justify_content": null,
            "justify_items": null,
            "left": null,
            "margin": null,
            "max_height": null,
            "max_width": null,
            "min_height": null,
            "min_width": null,
            "object_fit": null,
            "object_position": null,
            "order": null,
            "overflow": null,
            "overflow_x": null,
            "overflow_y": null,
            "padding": null,
            "right": null,
            "top": null,
            "visibility": null,
            "width": null
          }
        },
        "3403ca67c91e4dd4bc3dd33424c39347": {
          "model_module": "@jupyter-widgets/controls",
          "model_name": "DescriptionStyleModel",
          "model_module_version": "1.5.0",
          "state": {
            "_model_module": "@jupyter-widgets/controls",
            "_model_module_version": "1.5.0",
            "_model_name": "DescriptionStyleModel",
            "_view_count": null,
            "_view_module": "@jupyter-widgets/base",
            "_view_module_version": "1.2.0",
            "_view_name": "StyleView",
            "description_width": ""
          }
        },
        "0f9408a8d8af4a52a870857d5a1f52d8": {
          "model_module": "@jupyter-widgets/base",
          "model_name": "LayoutModel",
          "model_module_version": "1.2.0",
          "state": {
            "_model_module": "@jupyter-widgets/base",
            "_model_module_version": "1.2.0",
            "_model_name": "LayoutModel",
            "_view_count": null,
            "_view_module": "@jupyter-widgets/base",
            "_view_module_version": "1.2.0",
            "_view_name": "LayoutView",
            "align_content": null,
            "align_items": null,
            "align_self": null,
            "border": null,
            "bottom": null,
            "display": null,
            "flex": null,
            "flex_flow": null,
            "grid_area": null,
            "grid_auto_columns": null,
            "grid_auto_flow": null,
            "grid_auto_rows": null,
            "grid_column": null,
            "grid_gap": null,
            "grid_row": null,
            "grid_template_areas": null,
            "grid_template_columns": null,
            "grid_template_rows": null,
            "height": null,
            "justify_content": null,
            "justify_items": null,
            "left": null,
            "margin": null,
            "max_height": null,
            "max_width": null,
            "min_height": null,
            "min_width": null,
            "object_fit": null,
            "object_position": null,
            "order": null,
            "overflow": null,
            "overflow_x": null,
            "overflow_y": null,
            "padding": null,
            "right": null,
            "top": null,
            "visibility": null,
            "width": null
          }
        },
        "e97c553529fe4de5b4b743b79f735003": {
          "model_module": "@jupyter-widgets/controls",
          "model_name": "ProgressStyleModel",
          "model_module_version": "1.5.0",
          "state": {
            "_model_module": "@jupyter-widgets/controls",
            "_model_module_version": "1.5.0",
            "_model_name": "ProgressStyleModel",
            "_view_count": null,
            "_view_module": "@jupyter-widgets/base",
            "_view_module_version": "1.2.0",
            "_view_name": "StyleView",
            "bar_color": null,
            "description_width": ""
          }
        },
        "eb4803f47e534734bfc4dc3eaa1d9577": {
          "model_module": "@jupyter-widgets/base",
          "model_name": "LayoutModel",
          "model_module_version": "1.2.0",
          "state": {
            "_model_module": "@jupyter-widgets/base",
            "_model_module_version": "1.2.0",
            "_model_name": "LayoutModel",
            "_view_count": null,
            "_view_module": "@jupyter-widgets/base",
            "_view_module_version": "1.2.0",
            "_view_name": "LayoutView",
            "align_content": null,
            "align_items": null,
            "align_self": null,
            "border": null,
            "bottom": null,
            "display": null,
            "flex": null,
            "flex_flow": null,
            "grid_area": null,
            "grid_auto_columns": null,
            "grid_auto_flow": null,
            "grid_auto_rows": null,
            "grid_column": null,
            "grid_gap": null,
            "grid_row": null,
            "grid_template_areas": null,
            "grid_template_columns": null,
            "grid_template_rows": null,
            "height": null,
            "justify_content": null,
            "justify_items": null,
            "left": null,
            "margin": null,
            "max_height": null,
            "max_width": null,
            "min_height": null,
            "min_width": null,
            "object_fit": null,
            "object_position": null,
            "order": null,
            "overflow": null,
            "overflow_x": null,
            "overflow_y": null,
            "padding": null,
            "right": null,
            "top": null,
            "visibility": null,
            "width": null
          }
        },
        "6697a19f05bd486894130ccc16ca9d0e": {
          "model_module": "@jupyter-widgets/controls",
          "model_name": "DescriptionStyleModel",
          "model_module_version": "1.5.0",
          "state": {
            "_model_module": "@jupyter-widgets/controls",
            "_model_module_version": "1.5.0",
            "_model_name": "DescriptionStyleModel",
            "_view_count": null,
            "_view_module": "@jupyter-widgets/base",
            "_view_module_version": "1.2.0",
            "_view_name": "StyleView",
            "description_width": ""
          }
        }
      }
    }
  },
  "cells": [
    {
      "cell_type": "code",
      "source": [
        "!pip install simple_diarizer"
      ],
      "metadata": {
        "id": "nmUojJ6QrVpx"
      },
      "execution_count": null,
      "outputs": []
    },
    {
      "cell_type": "code",
      "source": [
        "from simple_diarizer.diarizer import Diarizer"
      ],
      "metadata": {
        "id": "yfkOUCGlrbPO"
      },
      "execution_count": 16,
      "outputs": []
    },
    {
      "cell_type": "code",
      "source": [
        "!pip install pytube\n",
        "!pip install -U openai-whisper\n",
        "!pip install pydub"
      ],
      "metadata": {
        "id": "S4C_ehVWregd"
      },
      "execution_count": null,
      "outputs": []
    },
    {
      "cell_type": "code",
      "source": [
        "from pytube import YouTube\n",
        "import whisper\n",
        "from pydub import AudioSegment"
      ],
      "metadata": {
        "id": "8eUcadj-rkYR"
      },
      "execution_count": 19,
      "outputs": []
    },
    {
      "cell_type": "code",
      "source": [
        "model = whisper.load_model(\"medium\")\n",
        "diarization = Diarizer(embed_model='xvec', cluster_method='sc')"
      ],
      "metadata": {
        "id": "NrFyxG8KrnUD"
      },
      "execution_count": null,
      "outputs": []
    },
    {
      "cell_type": "code",
      "source": [
        "def get_full_answer(audio_file_name) -> str:\n",
        "  prepared_audio = AudioSegment.from_file(audio_file_name, format=\"mp4\")\n",
        "  print(\"аудио было приготовлено\")\n",
        "\n",
        "  def get_slice_audio(audio_file_name, begin: int, end: int, trimmed_audio_name: str, format_audio):\n",
        "    trimmed_audio = prepared_audio[begin: end]\n",
        "    trimmed_audio.export(trimmed_audio_name, format=format_audio)\n",
        "\n",
        "  def get_transcription(audio_file_name) -> str:\n",
        "    audio = whisper.load_audio(audio_file_name)\n",
        "    audio = whisper.pad_or_trim(audio)\n",
        "\n",
        "    mel = whisper.log_mel_spectrogram(audio).to(model.device)\n",
        "\n",
        "    options = whisper.DecodingOptions(fp16 = False)\n",
        "    result = whisper.decode(model, mel, options)\n",
        "\n",
        "    return result.text\n",
        "\n",
        "  segments = diarization.diarize(audio_file_name, num_speakers=4)\n",
        "  print(\"сегментировано\")\n",
        "  cnt_segments = len(segments)\n",
        "  answer = []\n",
        "  i, j = 0, 0\n",
        "  while j < cnt_segments:\n",
        "    while j < cnt_segments and segments[j][\"label\"] == segments[i][\"label\"]:\n",
        "      j += 1\n",
        "    j -= 1\n",
        "\n",
        "    new_audio = \"tmp.wav\"\n",
        "    get_slice_audio(audio_file_name, segments[i][\"start\"] * 1000, segments[j][\"end\"] * 1000, new_audio, 'wav')\n",
        "    answer.append([segments[j][\"label\"], int(segments[i][\"start\"]), int(segments[j][\"end\"]), get_transcription(new_audio)])\n",
        "    i = j = j + 1\n",
        "    print(f\"обработано {i} семгментов\")\n",
        "  return str(answer)"
      ],
      "metadata": {
        "id": "E-_u2S0or8OE"
      },
      "execution_count": 22,
      "outputs": []
    },
    {
      "cell_type": "code",
      "source": [
        "!pip install pyTelegramBotAPI"
      ],
      "metadata": {
        "id": "Tx5hw7YPlYgU"
      },
      "execution_count": null,
      "outputs": []
    },
    {
      "cell_type": "code",
      "source": [
        "import telebot\n",
        "from telebot import types\n",
        "\n",
        "# Замените 'YOUR_BOT_TOKEN' на фактический токен вашего Telegram-бота\n",
        "bot = telebot.TeleBot('6645231772:AAGfVSHptZrRZurqejzmt7DtA4x-6WxQeJU')"
      ],
      "metadata": {
        "id": "fubDYE3rlZ-v"
      },
      "execution_count": 40,
      "outputs": []
    },
    {
      "cell_type": "code",
      "source": [
        "@bot.message_handler(commands=['start'])\n",
        "def handle_start(message):\n",
        "  bot.send_message(message.chat.id, \"Добро пожаловать в бот транскрибации! Отправьте мне видео или аудиосообщение для транскрибации.\")\n",
        "\n",
        "def send_answer_to(message):\n",
        "  print(\"получено аудио\")\n",
        "  final_answer = \"empty\"\n",
        "  if message.content_type == \"voice\":\n",
        "    audio = message.voice\n",
        "    file_id = audio.file_id\n",
        "    file_info = bot.get_file(message.voice.file_id)\n",
        "    downloaded_file = bot.download_file(file_info.file_path)\n",
        "    with open('audio.ogg', 'wb') as new_file:\n",
        "        new_file.write(downloaded_file)\n",
        "  else:\n",
        "    audio = message.audio\n",
        "    file_id = audio.file_id\n",
        "\n",
        "    file = bot.get_file(file_id)\n",
        "    print(\"скачивается аудио\")\n",
        "    file.download(\"audio.ogg\")\n",
        "  print(\"скачано аудио\")\n",
        "\n",
        "  sound = AudioSegment.from_ogg(\"audio.ogg\")\n",
        "  sound.export(\"audio.wav\", format=\"wav\")\n",
        "  final_answer = get_full_answer(\"audio.wav\")\n",
        "  bot.send_message(message.chat.id, final_answer)\n",
        "\n",
        "@bot.message_handler(content_types=['audio'])\n",
        "def handle_media_message(message):\n",
        "  send_answer_to(message)\n",
        "\n",
        "@bot.message_handler(content_types=['voice'])\n",
        "def handle_media_message(message):\n",
        "  send_answer_to(message)\n",
        "\n",
        "@bot.message_handler(content_types=['video'])\n",
        "def handle_media_message(message):\n",
        "  transcription = \"it's video\"\n",
        "\n",
        "  bot.send_message(message.chat.id, transcription)\n",
        "\n",
        "@bot.message_handler(content_types=['photo'])\n",
        "def handle_picture(message):\n",
        "  print('dlafjsdlfj')\n",
        "  bot.send_message(message.chat.id, \"You send picture\")\n",
        "\n",
        "\n",
        "if __name__ == '__main__':\n",
        "    bot.polling(none_stop=True)\n"
      ],
      "metadata": {
        "colab": {
          "base_uri": "https://localhost:8080/",
          "height": 399,
          "referenced_widgets": [
            "bc4a3e90001c45488dc42396ff759fbb",
            "150e15806ea74574bc299e3389dc90cf",
            "6409e4148c6f4183a3dd6b8b7d28faea",
            "64ce8973689e4166a4e591ee2f93d5fa",
            "511de7fa5ea748549a765fc56e04568b",
            "e3c81f47fb8d40579384919831e4eafa",
            "3403ca67c91e4dd4bc3dd33424c39347",
            "0f9408a8d8af4a52a870857d5a1f52d8",
            "e97c553529fe4de5b4b743b79f735003",
            "eb4803f47e534734bfc4dc3eaa1d9577",
            "6697a19f05bd486894130ccc16ca9d0e"
          ]
        },
        "id": "lEHdjGVdi6Bu",
        "outputId": "3b4d26ee-8c0e-48ec-812e-0c0c2e195aa1"
      },
      "execution_count": null,
      "outputs": [
        {
          "output_type": "stream",
          "name": "stdout",
          "text": [
            "получено аудио\n",
            "скачано аудио\n",
            "аудио было приготовлено\n",
            "Converting audio file to single channel WAV using ffmpeg...\n",
            "Running VAD...\n",
            "Splitting by silence found 2 utterances\n",
            "Extracting embeddings...\n"
          ]
        },
        {
          "output_type": "display_data",
          "data": {
            "text/plain": [
              "Utterances:   0%|          | 0/2 [00:00<?, ?it/s]"
            ],
            "application/vnd.jupyter.widget-view+json": {
              "version_major": 2,
              "version_minor": 0,
              "model_id": "bc4a3e90001c45488dc42396ff759fbb"
            }
          },
          "metadata": {}
        },
        {
          "output_type": "stream",
          "name": "stdout",
          "text": [
            "Clustering to 4 speakers...\n"
          ]
        },
        {
          "output_type": "stream",
          "name": "stderr",
          "text": [
            "/usr/local/lib/python3.10/dist-packages/sklearn/manifold/_spectral_embedding.py:248: UserWarning: Array is not symmetric, and will be converted to symmetric by average with its transpose.\n",
            "  adjacency = check_symmetric(adjacency)\n",
            "/usr/local/lib/python3.10/dist-packages/scipy/sparse/linalg/_eigen/arpack/arpack.py:1600: RuntimeWarning: k >= N for N * N square matrix. Attempting to use scipy.linalg.eigh instead.\n",
            "  warnings.warn(\"k >= N for N * N square matrix. \"\n"
          ]
        },
        {
          "output_type": "stream",
          "name": "stdout",
          "text": [
            "Cleaning up output...\n",
            "Done!\n",
            "сегментировано\n",
            "обработано 1 семгментов\n",
            "обработано 2 семгментов\n",
            "обработано 3 семгментов\n",
            "обработано 4 семгментов\n"
          ]
        }
      ]
    }
  ]
}